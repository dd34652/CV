{
  "nbformat": 4,
  "nbformat_minor": 0,
  "metadata": {
    "colab": {
      "name": "slice.ipynb",
      "provenance": [],
      "authorship_tag": "ABX9TyMVmWF9A81nmiiZvC0d7ne6",
      "include_colab_link": true
    },
    "kernelspec": {
      "name": "python3",
      "display_name": "Python 3"
    }
  },
  "cells": [
    {
      "cell_type": "markdown",
      "metadata": {
        "id": "view-in-github",
        "colab_type": "text"
      },
      "source": [
        "<a href=\"https://colab.research.google.com/github/dd34652/CV/blob/master/slice.ipynb\" target=\"_parent\"><img src=\"https://colab.research.google.com/assets/colab-badge.svg\" alt=\"Open In Colab\"/></a>"
      ]
    },
    {
      "cell_type": "code",
      "metadata": {
        "id": "bFy7MQfeP3AP",
        "colab_type": "code",
        "colab": {
          "base_uri": "https://localhost:8080/",
          "height": 34
        },
        "outputId": "1438cdcc-8492-4829-9263-828af26dc93e"
      },
      "source": [
        "str = 'Durga Software Solutions'\n",
        "print(str[0:len(str):1])"
      ],
      "execution_count": 1,
      "outputs": [
        {
          "output_type": "stream",
          "text": [
            "Durga Software Solutions\n"
          ],
          "name": "stdout"
        }
      ]
    },
    {
      "cell_type": "code",
      "metadata": {
        "id": "-22VdczzQEqJ",
        "colab_type": "code",
        "colab": {
          "base_uri": "https://localhost:8080/",
          "height": 136
        },
        "outputId": "e13a701e-479e-49f2-dc9b-9dd4f16b8ca8"
      },
      "source": [
        "str = 'Durga Software Solutions'\n",
        "print(str[6:15:1])\n",
        "print(str[6:100:1])\n",
        "print(str[-100:5:1])\n",
        "print(str[0:24:2])\n",
        "print(str[15:5:1])\n",
        "print(str[-1:-25:-1])\n",
        "print(str[:-25:-1])"
      ],
      "execution_count": 10,
      "outputs": [
        {
          "output_type": "stream",
          "text": [
            "Software \n",
            "Software Solutions\n",
            "Durga\n",
            "DraSfwr ouin\n",
            "\n",
            "snoituloS erawtfoS agruD\n",
            "snoituloS erawtfoS agruD\n"
          ],
          "name": "stdout"
        }
      ]
    }
  ]
}